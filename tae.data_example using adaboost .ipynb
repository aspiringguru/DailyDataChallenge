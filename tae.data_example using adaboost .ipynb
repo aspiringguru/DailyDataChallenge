{
 "cells": [
  {
   "cell_type": "code",
   "execution_count": 1,
   "metadata": {
    "collapsed": false
   },
   "outputs": [
    {
     "name": "stdout",
     "output_type": "stream",
     "text": [
      "libraries imported\n"
     ]
    }
   ],
   "source": [
    "import graphlab\n",
    "print \"libraries imported\""
   ]
  },
  {
   "cell_type": "code",
   "execution_count": 6,
   "metadata": {
    "collapsed": false
   },
   "outputs": [
    {
     "data": {
      "text/html": [
       "<pre>Finished parsing file E:\\2016\\DailyDataScienceReddit\\2ndFeb\\tae.data</pre>"
      ],
      "text/plain": [
       "Finished parsing file E:\\2016\\DailyDataScienceReddit\\2ndFeb\\tae.data"
      ]
     },
     "metadata": {},
     "output_type": "display_data"
    },
    {
     "data": {
      "text/html": [
       "<pre>Parsing completed. Parsed 100 lines in 0.026061 secs.</pre>"
      ],
      "text/plain": [
       "Parsing completed. Parsed 100 lines in 0.026061 secs."
      ]
     },
     "metadata": {},
     "output_type": "display_data"
    },
    {
     "name": "stdout",
     "output_type": "stream",
     "text": [
      "------------------------------------------------------\n",
      "Inferred types from first 100 line(s) of file as \n",
      "column_type_hints=[long,long,long,long,long,long]\n",
      "If parsing fails due to incorrect types, you can correct\n",
      "the inferred type list above and pass it to read_csv in\n",
      "the column_type_hints argument\n",
      "------------------------------------------------------\n"
     ]
    },
    {
     "data": {
      "text/html": [
       "<pre>Finished parsing file E:\\2016\\DailyDataScienceReddit\\2ndFeb\\tae.data</pre>"
      ],
      "text/plain": [
       "Finished parsing file E:\\2016\\DailyDataScienceReddit\\2ndFeb\\tae.data"
      ]
     },
     "metadata": {},
     "output_type": "display_data"
    },
    {
     "data": {
      "text/html": [
       "<pre>Parsing completed. Parsed 151 lines in 0.025023 secs.</pre>"
      ],
      "text/plain": [
       "Parsing completed. Parsed 151 lines in 0.025023 secs."
      ]
     },
     "metadata": {},
     "output_type": "display_data"
    },
    {
     "name": "stdout",
     "output_type": "stream",
     "text": [
      "(151, 6)\n"
     ]
    }
   ],
   "source": [
    "sf = graphlab.SFrame.read_csv(\"tae.data\", header=False)\n",
    "print sf.shape"
   ]
  },
  {
   "cell_type": "code",
   "execution_count": 8,
   "metadata": {
    "collapsed": false
   },
   "outputs": [
    {
     "data": {
      "text/html": [
       "<div style=\"max-height:1000px;max-width:1500px;overflow:auto;\"><table frame=\"box\" rules=\"cols\">\n",
       "    <tr>\n",
       "        <th style=\"padding-left: 1em; padding-right: 1em; text-align: center\">english</th>\n",
       "        <th style=\"padding-left: 1em; padding-right: 1em; text-align: center\">Instructor</th>\n",
       "        <th style=\"padding-left: 1em; padding-right: 1em; text-align: center\">Course</th>\n",
       "        <th style=\"padding-left: 1em; padding-right: 1em; text-align: center\">SummerRegular</th>\n",
       "        <th style=\"padding-left: 1em; padding-right: 1em; text-align: center\">ClassSize</th>\n",
       "        <th style=\"padding-left: 1em; padding-right: 1em; text-align: center\">Rating</th>\n",
       "    </tr>\n",
       "    <tr>\n",
       "        <td style=\"padding-left: 1em; padding-right: 1em; text-align: center; vertical-align: top\">1</td>\n",
       "        <td style=\"padding-left: 1em; padding-right: 1em; text-align: center; vertical-align: top\">23</td>\n",
       "        <td style=\"padding-left: 1em; padding-right: 1em; text-align: center; vertical-align: top\">3</td>\n",
       "        <td style=\"padding-left: 1em; padding-right: 1em; text-align: center; vertical-align: top\">1</td>\n",
       "        <td style=\"padding-left: 1em; padding-right: 1em; text-align: center; vertical-align: top\">19</td>\n",
       "        <td style=\"padding-left: 1em; padding-right: 1em; text-align: center; vertical-align: top\">3</td>\n",
       "    </tr>\n",
       "    <tr>\n",
       "        <td style=\"padding-left: 1em; padding-right: 1em; text-align: center; vertical-align: top\">2</td>\n",
       "        <td style=\"padding-left: 1em; padding-right: 1em; text-align: center; vertical-align: top\">15</td>\n",
       "        <td style=\"padding-left: 1em; padding-right: 1em; text-align: center; vertical-align: top\">3</td>\n",
       "        <td style=\"padding-left: 1em; padding-right: 1em; text-align: center; vertical-align: top\">1</td>\n",
       "        <td style=\"padding-left: 1em; padding-right: 1em; text-align: center; vertical-align: top\">17</td>\n",
       "        <td style=\"padding-left: 1em; padding-right: 1em; text-align: center; vertical-align: top\">3</td>\n",
       "    </tr>\n",
       "    <tr>\n",
       "        <td style=\"padding-left: 1em; padding-right: 1em; text-align: center; vertical-align: top\">1</td>\n",
       "        <td style=\"padding-left: 1em; padding-right: 1em; text-align: center; vertical-align: top\">23</td>\n",
       "        <td style=\"padding-left: 1em; padding-right: 1em; text-align: center; vertical-align: top\">3</td>\n",
       "        <td style=\"padding-left: 1em; padding-right: 1em; text-align: center; vertical-align: top\">2</td>\n",
       "        <td style=\"padding-left: 1em; padding-right: 1em; text-align: center; vertical-align: top\">49</td>\n",
       "        <td style=\"padding-left: 1em; padding-right: 1em; text-align: center; vertical-align: top\">3</td>\n",
       "    </tr>\n",
       "    <tr>\n",
       "        <td style=\"padding-left: 1em; padding-right: 1em; text-align: center; vertical-align: top\">1</td>\n",
       "        <td style=\"padding-left: 1em; padding-right: 1em; text-align: center; vertical-align: top\">5</td>\n",
       "        <td style=\"padding-left: 1em; padding-right: 1em; text-align: center; vertical-align: top\">2</td>\n",
       "        <td style=\"padding-left: 1em; padding-right: 1em; text-align: center; vertical-align: top\">2</td>\n",
       "        <td style=\"padding-left: 1em; padding-right: 1em; text-align: center; vertical-align: top\">33</td>\n",
       "        <td style=\"padding-left: 1em; padding-right: 1em; text-align: center; vertical-align: top\">3</td>\n",
       "    </tr>\n",
       "    <tr>\n",
       "        <td style=\"padding-left: 1em; padding-right: 1em; text-align: center; vertical-align: top\">2</td>\n",
       "        <td style=\"padding-left: 1em; padding-right: 1em; text-align: center; vertical-align: top\">7</td>\n",
       "        <td style=\"padding-left: 1em; padding-right: 1em; text-align: center; vertical-align: top\">11</td>\n",
       "        <td style=\"padding-left: 1em; padding-right: 1em; text-align: center; vertical-align: top\">2</td>\n",
       "        <td style=\"padding-left: 1em; padding-right: 1em; text-align: center; vertical-align: top\">55</td>\n",
       "        <td style=\"padding-left: 1em; padding-right: 1em; text-align: center; vertical-align: top\">3</td>\n",
       "    </tr>\n",
       "    <tr>\n",
       "        <td style=\"padding-left: 1em; padding-right: 1em; text-align: center; vertical-align: top\">2</td>\n",
       "        <td style=\"padding-left: 1em; padding-right: 1em; text-align: center; vertical-align: top\">23</td>\n",
       "        <td style=\"padding-left: 1em; padding-right: 1em; text-align: center; vertical-align: top\">3</td>\n",
       "        <td style=\"padding-left: 1em; padding-right: 1em; text-align: center; vertical-align: top\">1</td>\n",
       "        <td style=\"padding-left: 1em; padding-right: 1em; text-align: center; vertical-align: top\">20</td>\n",
       "        <td style=\"padding-left: 1em; padding-right: 1em; text-align: center; vertical-align: top\">3</td>\n",
       "    </tr>\n",
       "    <tr>\n",
       "        <td style=\"padding-left: 1em; padding-right: 1em; text-align: center; vertical-align: top\">2</td>\n",
       "        <td style=\"padding-left: 1em; padding-right: 1em; text-align: center; vertical-align: top\">9</td>\n",
       "        <td style=\"padding-left: 1em; padding-right: 1em; text-align: center; vertical-align: top\">5</td>\n",
       "        <td style=\"padding-left: 1em; padding-right: 1em; text-align: center; vertical-align: top\">2</td>\n",
       "        <td style=\"padding-left: 1em; padding-right: 1em; text-align: center; vertical-align: top\">19</td>\n",
       "        <td style=\"padding-left: 1em; padding-right: 1em; text-align: center; vertical-align: top\">3</td>\n",
       "    </tr>\n",
       "    <tr>\n",
       "        <td style=\"padding-left: 1em; padding-right: 1em; text-align: center; vertical-align: top\">2</td>\n",
       "        <td style=\"padding-left: 1em; padding-right: 1em; text-align: center; vertical-align: top\">10</td>\n",
       "        <td style=\"padding-left: 1em; padding-right: 1em; text-align: center; vertical-align: top\">3</td>\n",
       "        <td style=\"padding-left: 1em; padding-right: 1em; text-align: center; vertical-align: top\">2</td>\n",
       "        <td style=\"padding-left: 1em; padding-right: 1em; text-align: center; vertical-align: top\">27</td>\n",
       "        <td style=\"padding-left: 1em; padding-right: 1em; text-align: center; vertical-align: top\">3</td>\n",
       "    </tr>\n",
       "    <tr>\n",
       "        <td style=\"padding-left: 1em; padding-right: 1em; text-align: center; vertical-align: top\">1</td>\n",
       "        <td style=\"padding-left: 1em; padding-right: 1em; text-align: center; vertical-align: top\">22</td>\n",
       "        <td style=\"padding-left: 1em; padding-right: 1em; text-align: center; vertical-align: top\">3</td>\n",
       "        <td style=\"padding-left: 1em; padding-right: 1em; text-align: center; vertical-align: top\">1</td>\n",
       "        <td style=\"padding-left: 1em; padding-right: 1em; text-align: center; vertical-align: top\">58</td>\n",
       "        <td style=\"padding-left: 1em; padding-right: 1em; text-align: center; vertical-align: top\">3</td>\n",
       "    </tr>\n",
       "    <tr>\n",
       "        <td style=\"padding-left: 1em; padding-right: 1em; text-align: center; vertical-align: top\">2</td>\n",
       "        <td style=\"padding-left: 1em; padding-right: 1em; text-align: center; vertical-align: top\">15</td>\n",
       "        <td style=\"padding-left: 1em; padding-right: 1em; text-align: center; vertical-align: top\">3</td>\n",
       "        <td style=\"padding-left: 1em; padding-right: 1em; text-align: center; vertical-align: top\">1</td>\n",
       "        <td style=\"padding-left: 1em; padding-right: 1em; text-align: center; vertical-align: top\">20</td>\n",
       "        <td style=\"padding-left: 1em; padding-right: 1em; text-align: center; vertical-align: top\">3</td>\n",
       "    </tr>\n",
       "</table>\n",
       "[151 rows x 6 columns]<br/>Note: Only the head of the SFrame is printed.<br/>You can use print_rows(num_rows=m, num_columns=n) to print more rows and columns.\n",
       "</div>"
      ],
      "text/plain": [
       "Columns:\n",
       "\tenglish\tint\n",
       "\tInstructor\tint\n",
       "\tCourse\tint\n",
       "\tSummerRegular\tint\n",
       "\tClassSize\tint\n",
       "\tRating\tint\n",
       "\n",
       "Rows: 151\n",
       "\n",
       "Data:\n",
       "+---------+------------+--------+---------------+-----------+--------+\n",
       "| english | Instructor | Course | SummerRegular | ClassSize | Rating |\n",
       "+---------+------------+--------+---------------+-----------+--------+\n",
       "|    1    |     23     |   3    |       1       |     19    |   3    |\n",
       "|    2    |     15     |   3    |       1       |     17    |   3    |\n",
       "|    1    |     23     |   3    |       2       |     49    |   3    |\n",
       "|    1    |     5      |   2    |       2       |     33    |   3    |\n",
       "|    2    |     7      |   11   |       2       |     55    |   3    |\n",
       "|    2    |     23     |   3    |       1       |     20    |   3    |\n",
       "|    2    |     9      |   5    |       2       |     19    |   3    |\n",
       "|    2    |     10     |   3    |       2       |     27    |   3    |\n",
       "|    1    |     22     |   3    |       1       |     58    |   3    |\n",
       "|    2    |     15     |   3    |       1       |     20    |   3    |\n",
       "+---------+------------+--------+---------------+-----------+--------+\n",
       "[151 rows x 6 columns]\n",
       "Note: Only the head of the SFrame is printed.\n",
       "You can use print_rows(num_rows=m, num_columns=n) to print more rows and columns."
      ]
     },
     "execution_count": 8,
     "metadata": {},
     "output_type": "execute_result"
    }
   ],
   "source": [
    "sf.rename({'X1': 'english', 'X2':'Instructor', 'X3':'Course', 'X4':'SummerRegular', 'X5':'ClassSize', 'X6':'Rating'})"
   ]
  },
  {
   "cell_type": "code",
   "execution_count": 31,
   "metadata": {
    "collapsed": false
   },
   "outputs": [
    {
     "name": "stdout",
     "output_type": "stream",
     "text": [
      "features=  ['english', 'Instructor', 'Course', 'SummerRegular', 'ClassSize', 'Rating']\n",
      "target =  Rating\n",
      "type(target) =  <type 'str'>\n",
      "features =  ['english', 'Instructor', 'Course', 'SummerRegular', 'ClassSize']\n"
     ]
    }
   ],
   "source": [
    "#print sf.head(5)\n",
    "features = sf.column_names()\n",
    "print \"features= \", features\n",
    "target = features [-1:][0]\n",
    "print \"target = \", target\n",
    "print \"type(target) = \", type(target)\n",
    "features = features [:-1]\n",
    "print \"features = \", features"
   ]
  },
  {
   "cell_type": "code",
   "execution_count": 32,
   "metadata": {
    "collapsed": false
   },
   "outputs": [
    {
     "name": "stdout",
     "output_type": "stream",
     "text": [
      "# of Rating==1 49\n",
      "# of Rating==2 50\n",
      "# of Rating==3 52\n"
     ]
    }
   ],
   "source": [
    "#check if classes are balanced\n",
    "sf['Rating'].unique()\n",
    "print \"# of Rating==1\", len(sf[sf['Rating'] == 1])\n",
    "print \"# of Rating==2\", len(sf[sf['Rating'] == 2])\n",
    "print \"# of Rating==3\", len(sf[sf['Rating'] == 3])"
   ]
  },
  {
   "cell_type": "code",
   "execution_count": 39,
   "metadata": {
    "collapsed": false
   },
   "outputs": [
    {
     "name": "stdout",
     "output_type": "stream",
     "text": [
      "(151, 6)\n",
      "(0, 6)\n"
     ]
    }
   ],
   "source": [
    "sf, sf_with_na = sf[[target] + features].dropna_split()\n",
    "print sf.shape\n",
    "print sf_with_na.shape"
   ]
  },
  {
   "cell_type": "code",
   "execution_count": null,
   "metadata": {
    "collapsed": true
   },
   "outputs": [],
   "source": [
    "#we see from sf_with_na.shape there are no rows with missing data."
   ]
  },
  {
   "cell_type": "code",
   "execution_count": 33,
   "metadata": {
    "collapsed": false
   },
   "outputs": [
    {
     "name": "stdout",
     "output_type": "stream",
     "text": [
      "train_data.shape =  (124, 6)\n",
      "validation_data.shape =  (27, 6)\n"
     ]
    }
   ],
   "source": [
    "#classes are reasonably balanced 1/3,, 1/3, 1/3. \n",
    "#NB: random predictor has approx 1/3 chance of being correct, prediction needs to be better than random.\n",
    "train_data, validation_data = sf.random_split(.8, seed=1)\n",
    "print \"train_data.shape = \", train_data.shape\n",
    "print \"validation_data.shape = \", validation_data.shape"
   ]
  },
  {
   "cell_type": "code",
   "execution_count": 34,
   "metadata": {
    "collapsed": false
   },
   "outputs": [
    {
     "data": {
      "text/plain": [
       "dtype: int\n",
       "Rows: 124\n",
       "[3L, 3L, 3L, 3L, 3L, 3L, 3L, 3L, 3L, 3L, 3L, 3L, 2L, 2L, 2L, 2L, 2L, 2L, 2L, 2L, 2L, 2L, 2L, 1L, 1L, 1L, 1L, 1L, 1L, 1L, 3L, 3L, 3L, 3L, 3L, 3L, 3L, 3L, 3L, 3L, 3L, 3L, 3L, 2L, 2L, 2L, 2L, 2L, 2L, 2L, 2L, 2L, 2L, 2L, 2L, 1L, 1L, 1L, 1L, 1L, 1L, 1L, 1L, 1L, 1L, 1L, 3L, 3L, 3L, 3L, 3L, 3L, 3L, 3L, 3L, 3L, 3L, 3L, 3L, 3L, 3L, 3L, 2L, 2L, 2L, 2L, 2L, 2L, 2L, 2L, 2L, 1L, 1L, 1L, 1L, 1L, 1L, 1L, 1L, 1L, ... ]"
      ]
     },
     "execution_count": 34,
     "metadata": {},
     "output_type": "execute_result"
    }
   ],
   "source": [
    "train_data[target]"
   ]
  },
  {
   "cell_type": "code",
   "execution_count": 35,
   "metadata": {
    "collapsed": false
   },
   "outputs": [
    {
     "name": "stdout",
     "output_type": "stream",
     "text": [
      "['english', 'Instructor', 'Course', 'SummerRegular', 'ClassSize']\n",
      "Rating\n"
     ]
    }
   ],
   "source": [
    "print features\n",
    "print target"
   ]
  },
  {
   "cell_type": "code",
   "execution_count": 36,
   "metadata": {
    "collapsed": false
   },
   "outputs": [
    {
     "data": {
      "text/html": [
       "<pre>Boosted trees classifier:</pre>"
      ],
      "text/plain": [
       "Boosted trees classifier:"
      ]
     },
     "metadata": {},
     "output_type": "display_data"
    },
    {
     "data": {
      "text/html": [
       "<pre>--------------------------------------------------------</pre>"
      ],
      "text/plain": [
       "--------------------------------------------------------"
      ]
     },
     "metadata": {},
     "output_type": "display_data"
    },
    {
     "data": {
      "text/html": [
       "<pre>Number of examples          : 124</pre>"
      ],
      "text/plain": [
       "Number of examples          : 124"
      ]
     },
     "metadata": {},
     "output_type": "display_data"
    },
    {
     "data": {
      "text/html": [
       "<pre>Number of classes           : 3</pre>"
      ],
      "text/plain": [
       "Number of classes           : 3"
      ]
     },
     "metadata": {},
     "output_type": "display_data"
    },
    {
     "data": {
      "text/html": [
       "<pre>Number of feature columns   : 5</pre>"
      ],
      "text/plain": [
       "Number of feature columns   : 5"
      ]
     },
     "metadata": {},
     "output_type": "display_data"
    },
    {
     "data": {
      "text/html": [
       "<pre>Number of unpacked features : 5</pre>"
      ],
      "text/plain": [
       "Number of unpacked features : 5"
      ]
     },
     "metadata": {},
     "output_type": "display_data"
    },
    {
     "data": {
      "text/html": [
       "<pre>+-----------+--------------+-------------------+-------------------+</pre>"
      ],
      "text/plain": [
       "+-----------+--------------+-------------------+-------------------+"
      ]
     },
     "metadata": {},
     "output_type": "display_data"
    },
    {
     "data": {
      "text/html": [
       "<pre>| Iteration | Elapsed Time | Training-accuracy | Training-log_loss |</pre>"
      ],
      "text/plain": [
       "| Iteration | Elapsed Time | Training-accuracy | Training-log_loss |"
      ]
     },
     "metadata": {},
     "output_type": "display_data"
    },
    {
     "data": {
      "text/html": [
       "<pre>+-----------+--------------+-------------------+-------------------+</pre>"
      ],
      "text/plain": [
       "+-----------+--------------+-------------------+-------------------+"
      ]
     },
     "metadata": {},
     "output_type": "display_data"
    },
    {
     "data": {
      "text/html": [
       "<pre>| 1         | 0.013010     | 0.846774          | 0.909452          |</pre>"
      ],
      "text/plain": [
       "| 1         | 0.013010     | 0.846774          | 0.909452          |"
      ]
     },
     "metadata": {},
     "output_type": "display_data"
    },
    {
     "data": {
      "text/html": [
       "<pre>| 2         | 0.026021     | 0.862903          | 0.776344          |</pre>"
      ],
      "text/plain": [
       "| 2         | 0.026021     | 0.862903          | 0.776344          |"
      ]
     },
     "metadata": {},
     "output_type": "display_data"
    },
    {
     "data": {
      "text/html": [
       "<pre>| 3         | 0.033028     | 0.862903          | 0.674238          |</pre>"
      ],
      "text/plain": [
       "| 3         | 0.033028     | 0.862903          | 0.674238          |"
      ]
     },
     "metadata": {},
     "output_type": "display_data"
    },
    {
     "data": {
      "text/html": [
       "<pre>| 4         | 0.038032     | 0.919355          | 0.578102          |</pre>"
      ],
      "text/plain": [
       "| 4         | 0.038032     | 0.919355          | 0.578102          |"
      ]
     },
     "metadata": {},
     "output_type": "display_data"
    },
    {
     "data": {
      "text/html": [
       "<pre>| 5         | 0.045038     | 0.951613          | 0.508187          |</pre>"
      ],
      "text/plain": [
       "| 5         | 0.045038     | 0.951613          | 0.508187          |"
      ]
     },
     "metadata": {},
     "output_type": "display_data"
    },
    {
     "data": {
      "text/html": [
       "<pre>| 6         | 0.051044     | 0.943548          | 0.452050          |</pre>"
      ],
      "text/plain": [
       "| 6         | 0.051044     | 0.943548          | 0.452050          |"
      ]
     },
     "metadata": {},
     "output_type": "display_data"
    },
    {
     "data": {
      "text/html": [
       "<pre>+-----------+--------------+-------------------+-------------------+</pre>"
      ],
      "text/plain": [
       "+-----------+--------------+-------------------+-------------------+"
      ]
     },
     "metadata": {},
     "output_type": "display_data"
    }
   ],
   "source": [
    "model = graphlab.boosted_trees_classifier.create(train_data, \n",
    "                                                   validation_set=None, \n",
    "                                                   target = target, \n",
    "                                                   features = features)\n",
    "#https://turi.com/products/create/docs/generated/graphlab.boosted_trees_classifier.create.html\n"
   ]
  },
  {
   "cell_type": "code",
   "execution_count": 37,
   "metadata": {
    "collapsed": false
   },
   "outputs": [
    {
     "name": "stdout",
     "output_type": "stream",
     "text": [
      "Class                          : BoostedTreesClassifier\n",
      "\n",
      "Schema\n",
      "------\n",
      "Number of examples             : 124\n",
      "Number of feature columns      : 5\n",
      "Number of unpacked features    : 5\n",
      "Number of classes              : 3\n",
      "\n",
      "Settings\n",
      "--------\n",
      "Number of trees                : 30\n",
      "Max tree depth                 : 6\n",
      "Training time (sec)            : 0.0601\n",
      "Training accuracy              : 0.9758\n",
      "Validation accuracy            : None\n",
      "Training log_loss              : 0.2961\n",
      "Validation log_loss            : None\n",
      "\n",
      "None\n"
     ]
    }
   ],
   "source": [
    "print model.summary()"
   ]
  },
  {
   "cell_type": "code",
   "execution_count": null,
   "metadata": {
    "collapsed": true
   },
   "outputs": [],
   "source": [
    "#yields a Training accuracy              : 0.9758"
   ]
  },
  {
   "cell_type": "code",
   "execution_count": 38,
   "metadata": {
    "collapsed": false
   },
   "outputs": [
    {
     "name": "stdout",
     "output_type": "stream",
     "text": [
      "Accuracy on validation data: 0.555555555556\n"
     ]
    }
   ],
   "source": [
    "results = model.evaluate(validation_data, metric='accuracy')\n",
    "print \"Accuracy on validation data:\", results['accuracy']"
   ]
  },
  {
   "cell_type": "code",
   "execution_count": 41,
   "metadata": {
    "collapsed": false
   },
   "outputs": [],
   "source": [
    "#shows that our model is not really that good. \n",
    "#from results above we see 30 trees and max tree depth = 6. attempt again with settings to create more trees.\n",
    "model_5 = graphlab.boosted_trees_classifier.create(train_data, \n",
    "                                                 validation_set=None, \n",
    "                                                 target = target, \n",
    "                                                 features = features, \n",
    "                                                 max_iterations = 5,\n",
    "                                                 verbose=False)\n",
    "model_10 = graphlab.boosted_trees_classifier.create(train_data, \n",
    "                                                 validation_set=None, \n",
    "                                                 target = target, \n",
    "                                                 features = features, \n",
    "                                                 max_iterations = 10,\n",
    "                                                 verbose=False)\n",
    "model_20 = graphlab.boosted_trees_classifier.create(train_data, \n",
    "                                                 validation_set=None, \n",
    "                                                 target = target, \n",
    "                                                 features = features, \n",
    "                                                 max_iterations = 20,\n",
    "                                                 verbose=False)\n",
    "model_50 = graphlab.boosted_trees_classifier.create(train_data, \n",
    "                                                 validation_set=None, \n",
    "                                                 target = target, \n",
    "                                                 features = features, \n",
    "                                                 max_iterations = 50,\n",
    "                                                 verbose=False)\n",
    "model_100 = graphlab.boosted_trees_classifier.create(train_data, \n",
    "                                                 validation_set=None, \n",
    "                                                 target = target, \n",
    "                                                 features = features, \n",
    "                                                 max_iterations = 100,\n",
    "                                                 verbose=False)\n",
    "model_200 = graphlab.boosted_trees_classifier.create(train_data, \n",
    "                                                 validation_set=None, \n",
    "                                                 target = target, \n",
    "                                                 features = features, \n",
    "                                                 max_iterations = 200,\n",
    "                                                 verbose=False)\n",
    "model_500 = graphlab.boosted_trees_classifier.create(train_data, \n",
    "                                                 validation_set=None, \n",
    "                                                 target = target, \n",
    "                                                 features = features, \n",
    "                                                 max_iterations = 500,\n",
    "                                                 verbose=False)\n",
    "#https://turi.com/products/create/docs/generated/graphlab.boosted_trees_classifier.create.html"
   ]
  },
  {
   "cell_type": "code",
   "execution_count": 43,
   "metadata": {
    "collapsed": false
   },
   "outputs": [
    {
     "name": "stdout",
     "output_type": "stream",
     "text": [
      "Model_5 accuracy on validation set:  0.555555555556\n",
      "Model_10 accuracy on validation set:  0.555555555556\n",
      "Model_50 accuracy on validation set:  0.555555555556\n",
      "Model_100 accuracy on validation set:  0.555555555556\n",
      "Model_200 accuracy on validation set:  0.555555555556\n",
      "Model_500 accuracy on validation set:  0.555555555556\n"
     ]
    }
   ],
   "source": [
    "print 'Model_5 accuracy on validation set: ', model_5.evaluate(validation_data)['accuracy']\n",
    "print 'Model_10 accuracy on validation set: ', model_10.evaluate(validation_data)['accuracy']\n",
    "print 'Model_50 accuracy on validation set: ', model_50.evaluate(validation_data)['accuracy']\n",
    "print 'Model_100 accuracy on validation set: ', model_100.evaluate(validation_data)['accuracy']\n",
    "print 'Model_200 accuracy on validation set: ', model_200.evaluate(validation_data)['accuracy']\n",
    "print 'Model_500 accuracy on validation set: ', model_500.evaluate(validation_data)['accuracy']"
   ]
  },
  {
   "cell_type": "code",
   "execution_count": 44,
   "metadata": {
    "collapsed": false
   },
   "outputs": [
    {
     "name": "stdout",
     "output_type": "stream",
     "text": [
      "Model_5 accuracy on train_data set:  0.951612903226\n",
      "Model_10 accuracy on train_data set:  0.975806451613\n",
      "Model_50 accuracy on train_data set:  0.975806451613\n",
      "Model_100 accuracy on train_data set:  0.975806451613\n",
      "Model_200 accuracy on train_data set:  0.975806451613\n",
      "Model_500 accuracy on train_data set:  0.975806451613\n"
     ]
    }
   ],
   "source": [
    "print 'Model_5 accuracy on train_data set: ', model_5.evaluate(train_data)['accuracy']\n",
    "print 'Model_10 accuracy on train_data set: ', model_10.evaluate(train_data)['accuracy']\n",
    "print 'Model_50 accuracy on train_data set: ', model_50.evaluate(train_data)['accuracy']\n",
    "print 'Model_100 accuracy on train_data set: ', model_100.evaluate(train_data)['accuracy']\n",
    "print 'Model_200 accuracy on train_data set: ', model_200.evaluate(train_data)['accuracy']\n",
    "print 'Model_500 accuracy on train_data set: ', model_500.evaluate(train_data)['accuracy']"
   ]
  },
  {
   "cell_type": "code",
   "execution_count": null,
   "metadata": {
    "collapsed": true
   },
   "outputs": [],
   "source": [
    "# we see the accuracy on training improves from max_iterations=5 to max_iterations=10. max_iterations>10 does not add value.\n",
    "# accuracy on validation data does not improve across the range of max_iterations. "
   ]
  },
  {
   "cell_type": "code",
   "execution_count": null,
   "metadata": {
    "collapsed": true
   },
   "outputs": [],
   "source": []
  }
 ],
 "metadata": {
  "kernelspec": {
   "display_name": "Python 2",
   "language": "python",
   "name": "python2"
  },
  "language_info": {
   "codemirror_mode": {
    "name": "ipython",
    "version": 2
   },
   "file_extension": ".py",
   "mimetype": "text/x-python",
   "name": "python",
   "nbconvert_exporter": "python",
   "pygments_lexer": "ipython2",
   "version": "2.7.11"
  }
 },
 "nbformat": 4,
 "nbformat_minor": 0
}
