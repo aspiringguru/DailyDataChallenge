{
 "cells": [
  {
   "cell_type": "code",
   "execution_count": 37,
   "metadata": {
    "collapsed": false
   },
   "outputs": [
    {
     "name": "stdout",
     "output_type": "stream",
     "text": [
      "libraries imported.\n"
     ]
    }
   ],
   "source": [
    "from sklearn.ensemble import RandomForestClassifier\n",
    "from sklearn.cross_validation import train_test_split\n",
    "import numpy as np\n",
    "import pandas as pd\n",
    "print \"libraries imported.\""
   ]
  },
  {
   "cell_type": "code",
   "execution_count": 2,
   "metadata": {
    "collapsed": true
   },
   "outputs": [],
   "source": [
    "#http://scikit-learn.org/stable/modules/generated/sklearn.ensemble.RandomForestClassifier.html"
   ]
  },
  {
   "cell_type": "code",
   "execution_count": 3,
   "metadata": {
    "collapsed": false
   },
   "outputs": [
    {
     "name": "stdout",
     "output_type": "stream",
     "text": [
      "<type 'numpy.ndarray'>\n"
     ]
    }
   ],
   "source": [
    "csv = np.genfromtxt ('tae.data', delimiter=\",\")\n",
    "print type(csv)"
   ]
  },
  {
   "cell_type": "code",
   "execution_count": 15,
   "metadata": {
    "collapsed": false
   },
   "outputs": [
    {
     "name": "stdout",
     "output_type": "stream",
     "text": [
      "<class 'pandas.core.frame.DataFrame'>\n",
      "['english', 'Instructor', 'Course', 'SummerRegular', 'ClassSize', 'Rating']\n"
     ]
    }
   ],
   "source": [
    "data = pd.read_csv('tae.data', header=None, names=['english', 'Instructor', 'Course', 'SummerRegular', 'ClassSize', 'Rating'])\n",
    "print type(data)\n",
    "print data.columns.values.tolist()\n",
    "#print data"
   ]
  },
  {
   "cell_type": "code",
   "execution_count": 39,
   "metadata": {
    "collapsed": false
   },
   "outputs": [
    {
     "name": "stdout",
     "output_type": "stream",
     "text": [
      "type(dataFeatures) =  <class 'pandas.core.frame.DataFrame'>\n",
      "['english', 'Instructor', 'Course', 'SummerRegular', 'ClassSize']\n",
      "type(target) =  <class 'pandas.core.series.Series'>\n"
     ]
    }
   ],
   "source": [
    "dataFeatures = data[['english', 'Instructor', 'Course', 'SummerRegular', 'ClassSize']]\n",
    "print \"type(dataFeatures) = \", type(dataFeatures)\n",
    "print dataFeatures.columns.values.tolist()\n",
    "target = data['Rating']\n",
    "print \"type(target) = \", type(target)\n",
    "#print target.columns.values.tolist()"
   ]
  },
  {
   "cell_type": "code",
   "execution_count": 44,
   "metadata": {
    "collapsed": false
   },
   "outputs": [
    {
     "name": "stdout",
     "output_type": "stream",
     "text": [
      "X_train:  <class 'pandas.core.frame.DataFrame'> (120, 5)\n",
      "X_test :  <class 'pandas.core.frame.DataFrame'> (31, 5)\n",
      "y_train :  <class 'pandas.core.series.Series'> (120L,)\n",
      "y_test :  <class 'pandas.core.series.Series'> (31L,)\n"
     ]
    }
   ],
   "source": [
    "X_train, X_test, y_train, y_test = train_test_split(dataFeatures, target, test_size=0.2, random_state=0)\n",
    "print \"X_train: \", type(X_train), X_train.shape\n",
    "print \"X_test : \", type(X_test),X_test.shape\n",
    "print \"y_train : \", type(y_train), y_train.shape\n",
    "print \"y_test : \", type(y_test), y_test.shape"
   ]
  },
  {
   "cell_type": "code",
   "execution_count": 27,
   "metadata": {
    "collapsed": false
   },
   "outputs": [],
   "source": [
    "rf = RandomForestClassifier(n_estimators=100)\n"
   ]
  },
  {
   "cell_type": "code",
   "execution_count": 46,
   "metadata": {
    "collapsed": false
   },
   "outputs": [
    {
     "data": {
      "text/plain": [
       "RandomForestClassifier(bootstrap=True, class_weight=None, criterion='gini',\n",
       "            max_depth=None, max_features='auto', max_leaf_nodes=None,\n",
       "            min_samples_leaf=1, min_samples_split=2,\n",
       "            min_weight_fraction_leaf=0.0, n_estimators=100, n_jobs=1,\n",
       "            oob_score=False, random_state=None, verbose=0,\n",
       "            warm_start=False)"
      ]
     },
     "execution_count": 46,
     "metadata": {},
     "output_type": "execute_result"
    }
   ],
   "source": [
    "#rf.fit(dataFeatures, target)\n",
    "rf.fit(X_train, y_train)"
   ]
  },
  {
   "cell_type": "code",
   "execution_count": 48,
   "metadata": {
    "collapsed": false
   },
   "outputs": [
    {
     "name": "stdout",
     "output_type": "stream",
     "text": [
      "[3 1 3 2 2 2 3 2 3 1 3 1 3 3 2 1 1 1 3 1 2 2 3 3 2 2 1 3 1 3 1 3 3 2 3 3 3\n",
      " 3 3 1 2 2 2 3 3 1 2 3 1 1 2 3 2 1 2 2 3 3 1 3 3 1 3 1 1 3 3 2 2 1 3 2 1 2\n",
      " 3 1 1 2 1 1 2 1 1 1 2 2 2 1 1 2 3 2 1 2 3 2 2 3 3 1 1 1 1 2 3 1 1 3 2 1 3\n",
      " 1 2 1 2 3 2 1 1 3]\n",
      "[3, 2, 3, 2, 2, 2, 3, 2, 3, 1, 3, 1, 3, 3, 2, 1, 1, 1, 1, 1, 2, 2, 3, 3, 2, 2, 1, 3, 1, 3, 1, 2, 3, 2, 3, 3, 3, 3, 3, 1, 2, 2, 2, 3, 3, 1, 2, 3, 1, 1, 2, 3, 2, 1, 2, 2, 3, 3, 1, 3, 3, 1, 3, 1, 1, 3, 3, 2, 2, 1, 3, 2, 1, 2, 3, 1, 1, 2, 1, 1, 2, 1, 1, 1, 2, 2, 2, 1, 1, 2, 3, 2, 1, 2, 3, 2, 2, 3, 3, 1, 1, 1, 1, 2, 3, 1, 1, 3, 2, 1, 3, 1, 3, 1, 2, 3, 2, 1, 1, 3]\n"
     ]
    }
   ],
   "source": [
    "print rf.predict(X_train)\n",
    "print list(y_train)"
   ]
  },
  {
   "cell_type": "code",
   "execution_count": 49,
   "metadata": {
    "collapsed": false
   },
   "outputs": [
    {
     "data": {
      "text/plain": [
       "0.96666666666666667"
      ]
     },
     "execution_count": 49,
     "metadata": {},
     "output_type": "execute_result"
    }
   ],
   "source": [
    "rf.score(X_train, y_train)"
   ]
  },
  {
   "cell_type": "code",
   "execution_count": 50,
   "metadata": {
    "collapsed": false
   },
   "outputs": [
    {
     "data": {
      "text/plain": [
       "0.74193548387096775"
      ]
     },
     "execution_count": 50,
     "metadata": {},
     "output_type": "execute_result"
    }
   ],
   "source": [
    "rf.score(X_test, y_test)"
   ]
  },
  {
   "cell_type": "code",
   "execution_count": 54,
   "metadata": {
    "collapsed": false
   },
   "outputs": [
    {
     "name": "stdout",
     "output_type": "stream",
     "text": [
      "estimator= 5 \t, trainingScore= 0.933333333333 , testingScore= 0.548387096774\n",
      "estimator= 10 \t, trainingScore= 0.916666666667 , testingScore= 0.741935483871\n",
      "estimator= 20 \t, trainingScore= 0.958333333333 , testingScore= 0.774193548387\n",
      "estimator= 30 \t, trainingScore= 0.958333333333 , testingScore= 0.774193548387\n",
      "estimator= 40 \t, trainingScore= 0.966666666667 , testingScore= 0.677419354839\n",
      "estimator= 45 \t, trainingScore= 0.966666666667 , testingScore= 0.709677419355\n",
      "estimator= 50 \t, trainingScore= 0.966666666667 , testingScore= 0.741935483871\n",
      "estimator= 55 \t, trainingScore= 0.966666666667 , testingScore= 0.741935483871\n",
      "estimator= 60 \t, trainingScore= 0.966666666667 , testingScore= 0.677419354839\n",
      "estimator= 65 \t, trainingScore= 0.966666666667 , testingScore= 0.774193548387\n",
      "estimator= 70 \t, trainingScore= 0.966666666667 , testingScore= 0.774193548387\n",
      "estimator= 75 \t, trainingScore= 0.966666666667 , testingScore= 0.677419354839\n",
      "estimator= 80 \t, trainingScore= 0.966666666667 , testingScore= 0.741935483871\n",
      "estimator= 85 \t, trainingScore= 0.966666666667 , testingScore= 0.774193548387\n",
      "estimator= 90 \t, trainingScore= 0.966666666667 , testingScore= 0.774193548387\n",
      "estimator= 95 \t, trainingScore= 0.966666666667 , testingScore= 0.677419354839\n",
      "estimator= 100 \t, trainingScore= 0.966666666667 , testingScore= 0.741935483871\n",
      "estimator= 105 \t, trainingScore= 0.966666666667 , testingScore= 0.709677419355\n",
      "estimator= 110 \t, trainingScore= 0.966666666667 , testingScore= 0.741935483871\n",
      "estimator= 115 \t, trainingScore= 0.966666666667 , testingScore= 0.677419354839\n",
      "estimator= 120 \t, trainingScore= 0.966666666667 , testingScore= 0.774193548387\n",
      "estimator= 130 \t, trainingScore= 0.966666666667 , testingScore= 0.741935483871\n",
      "estimator= 200 \t, trainingScore= 0.966666666667 , testingScore= 0.774193548387\n",
      "end\n"
     ]
    }
   ],
   "source": [
    "estimators = [5, 10, 20, 30, 40, 45, 50, 55, 60, 65, 70, 75, 80, 85, 90, 95, 100, 105, 110, 115, 120, 130, 200]\n",
    "i = 0\n",
    "trainingScore = []\n",
    "testingScore = []\n",
    "for estimator in estimators:\n",
    "    rf = RandomForestClassifier(n_estimators=estimator)\n",
    "    rf.fit(X_train, y_train)\n",
    "    trainingScore.append(rf.score(X_train, y_train))\n",
    "    testingScore.append(rf.score(X_test, y_test))\n",
    "    print \"estimator=\", estimator, \"\\t, trainingScore=\", trainingScore[i], \", testingScore=\", testingScore[i]\n",
    "    i += 1\n",
    "print \"end\""
   ]
  },
  {
   "cell_type": "code",
   "execution_count": null,
   "metadata": {
    "collapsed": true
   },
   "outputs": [],
   "source": [
    "#NB: weird variation in score on testing data as number of estimators varies. \n",
    "# dip in testing score when number of estimators passes through  100-200 region noted.\n",
    "#todo : add plot to display scores visually."
   ]
  }
 ],
 "metadata": {
  "kernelspec": {
   "display_name": "Python 2",
   "language": "python",
   "name": "python2"
  },
  "language_info": {
   "codemirror_mode": {
    "name": "ipython",
    "version": 2
   },
   "file_extension": ".py",
   "mimetype": "text/x-python",
   "name": "python",
   "nbconvert_exporter": "python",
   "pygments_lexer": "ipython2",
   "version": "2.7.11"
  }
 },
 "nbformat": 4,
 "nbformat_minor": 0
}
